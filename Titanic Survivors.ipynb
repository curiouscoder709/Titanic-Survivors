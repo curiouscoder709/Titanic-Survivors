{
 "cells": [
  {
   "cell_type": "markdown",
   "id": "fa35a9c2",
   "metadata": {},
   "source": [
    "# Importing Libraries"
   ]
  },
  {
   "cell_type": "code",
   "execution_count": 1,
   "id": "111bfad8",
   "metadata": {},
   "outputs": [],
   "source": [
    "import pandas as pd\n",
    "import numpy as np\n",
    "import seaborn as sns\n",
    "import matplotlib.pyplot as plt\n",
    "from sklearn.model_selection import train_test_split\n",
    "from sklearn.ensemble import RandomForestClassifier\n",
    "from sklearn.linear_model import LogisticRegression\n",
    "from sklearn.svm import SVC\n",
    "from sklearn.neighbors import KNeighborsClassifier\n",
    "from sklearn.preprocessing import MinMaxScaler\n",
    "from sklearn.model_selection import train_test_split"
   ]
  },
  {
   "cell_type": "markdown",
   "id": "a9ed77ee",
   "metadata": {},
   "source": [
    "# Reading the data"
   ]
  },
  {
   "cell_type": "code",
   "execution_count": 12,
   "id": "2d1db2f6",
   "metadata": {},
   "outputs": [
    {
     "data": {
      "text/html": [
       "<div>\n",
       "<style scoped>\n",
       "    .dataframe tbody tr th:only-of-type {\n",
       "        vertical-align: middle;\n",
       "    }\n",
       "\n",
       "    .dataframe tbody tr th {\n",
       "        vertical-align: top;\n",
       "    }\n",
       "\n",
       "    .dataframe thead th {\n",
       "        text-align: right;\n",
       "    }\n",
       "</style>\n",
       "<table border=\"1\" class=\"dataframe\">\n",
       "  <thead>\n",
       "    <tr style=\"text-align: right;\">\n",
       "      <th></th>\n",
       "      <th>PassengerId</th>\n",
       "      <th>Survived</th>\n",
       "      <th>Pclass</th>\n",
       "      <th>Name</th>\n",
       "      <th>Sex</th>\n",
       "      <th>Age</th>\n",
       "      <th>SibSp</th>\n",
       "      <th>Parch</th>\n",
       "      <th>Ticket</th>\n",
       "      <th>Fare</th>\n",
       "      <th>Cabin</th>\n",
       "      <th>Embarked</th>\n",
       "    </tr>\n",
       "  </thead>\n",
       "  <tbody>\n",
       "    <tr>\n",
       "      <th>0</th>\n",
       "      <td>892</td>\n",
       "      <td>0</td>\n",
       "      <td>3</td>\n",
       "      <td>Kelly, Mr. James</td>\n",
       "      <td>male</td>\n",
       "      <td>34.5</td>\n",
       "      <td>0</td>\n",
       "      <td>0</td>\n",
       "      <td>330911</td>\n",
       "      <td>7.8292</td>\n",
       "      <td>NaN</td>\n",
       "      <td>Q</td>\n",
       "    </tr>\n",
       "    <tr>\n",
       "      <th>1</th>\n",
       "      <td>893</td>\n",
       "      <td>1</td>\n",
       "      <td>3</td>\n",
       "      <td>Wilkes, Mrs. James (Ellen Needs)</td>\n",
       "      <td>female</td>\n",
       "      <td>47.0</td>\n",
       "      <td>1</td>\n",
       "      <td>0</td>\n",
       "      <td>363272</td>\n",
       "      <td>7.0000</td>\n",
       "      <td>NaN</td>\n",
       "      <td>S</td>\n",
       "    </tr>\n",
       "    <tr>\n",
       "      <th>2</th>\n",
       "      <td>894</td>\n",
       "      <td>0</td>\n",
       "      <td>2</td>\n",
       "      <td>Myles, Mr. Thomas Francis</td>\n",
       "      <td>male</td>\n",
       "      <td>62.0</td>\n",
       "      <td>0</td>\n",
       "      <td>0</td>\n",
       "      <td>240276</td>\n",
       "      <td>9.6875</td>\n",
       "      <td>NaN</td>\n",
       "      <td>Q</td>\n",
       "    </tr>\n",
       "    <tr>\n",
       "      <th>3</th>\n",
       "      <td>895</td>\n",
       "      <td>0</td>\n",
       "      <td>3</td>\n",
       "      <td>Wirz, Mr. Albert</td>\n",
       "      <td>male</td>\n",
       "      <td>27.0</td>\n",
       "      <td>0</td>\n",
       "      <td>0</td>\n",
       "      <td>315154</td>\n",
       "      <td>8.6625</td>\n",
       "      <td>NaN</td>\n",
       "      <td>S</td>\n",
       "    </tr>\n",
       "    <tr>\n",
       "      <th>4</th>\n",
       "      <td>896</td>\n",
       "      <td>1</td>\n",
       "      <td>3</td>\n",
       "      <td>Hirvonen, Mrs. Alexander (Helga E Lindqvist)</td>\n",
       "      <td>female</td>\n",
       "      <td>22.0</td>\n",
       "      <td>1</td>\n",
       "      <td>1</td>\n",
       "      <td>3101298</td>\n",
       "      <td>12.2875</td>\n",
       "      <td>NaN</td>\n",
       "      <td>S</td>\n",
       "    </tr>\n",
       "  </tbody>\n",
       "</table>\n",
       "</div>"
      ],
      "text/plain": [
       "   PassengerId  Survived  Pclass  \\\n",
       "0          892         0       3   \n",
       "1          893         1       3   \n",
       "2          894         0       2   \n",
       "3          895         0       3   \n",
       "4          896         1       3   \n",
       "\n",
       "                                           Name     Sex   Age  SibSp  Parch  \\\n",
       "0                              Kelly, Mr. James    male  34.5      0      0   \n",
       "1              Wilkes, Mrs. James (Ellen Needs)  female  47.0      1      0   \n",
       "2                     Myles, Mr. Thomas Francis    male  62.0      0      0   \n",
       "3                              Wirz, Mr. Albert    male  27.0      0      0   \n",
       "4  Hirvonen, Mrs. Alexander (Helga E Lindqvist)  female  22.0      1      1   \n",
       "\n",
       "    Ticket     Fare Cabin Embarked  \n",
       "0   330911   7.8292   NaN        Q  \n",
       "1   363272   7.0000   NaN        S  \n",
       "2   240276   9.6875   NaN        Q  \n",
       "3   315154   8.6625   NaN        S  \n",
       "4  3101298  12.2875   NaN        S  "
      ]
     },
     "execution_count": 12,
     "metadata": {},
     "output_type": "execute_result"
    }
   ],
   "source": [
    "data = pd.read_csv(\"E:/malay/Downloads/archive (2)/tested.csv\")\n",
    "data.head()"
   ]
  },
  {
   "cell_type": "code",
   "execution_count": 4,
   "id": "2cda276b",
   "metadata": {},
   "outputs": [
    {
     "data": {
      "text/plain": [
       "PassengerId      int64\n",
       "Survived         int64\n",
       "Pclass           int64\n",
       "Name            object\n",
       "Sex             object\n",
       "Age            float64\n",
       "SibSp            int64\n",
       "Parch            int64\n",
       "Ticket          object\n",
       "Fare           float64\n",
       "Cabin           object\n",
       "Embarked        object\n",
       "dtype: object"
      ]
     },
     "execution_count": 4,
     "metadata": {},
     "output_type": "execute_result"
    }
   ],
   "source": [
    "data.dtypes"
   ]
  },
  {
   "cell_type": "markdown",
   "id": "936ec58d",
   "metadata": {},
   "source": [
    "### Checking missing values"
   ]
  },
  {
   "cell_type": "code",
   "execution_count": 64,
   "id": "39e31cd3",
   "metadata": {},
   "outputs": [
    {
     "data": {
      "text/plain": [
       "PassengerId      0\n",
       "Survived         0\n",
       "Pclass           0\n",
       "Name             0\n",
       "Sex              0\n",
       "Age             86\n",
       "SibSp            0\n",
       "Parch            0\n",
       "Ticket           0\n",
       "Fare             1\n",
       "Cabin          327\n",
       "Embarked         0\n",
       "dtype: int64"
      ]
     },
     "execution_count": 64,
     "metadata": {},
     "output_type": "execute_result"
    }
   ],
   "source": [
    "data.isna().sum()"
   ]
  },
  {
   "cell_type": "markdown",
   "id": "0a6a7862",
   "metadata": {},
   "source": [
    "### Dropping Duplicates"
   ]
  },
  {
   "cell_type": "code",
   "execution_count": 65,
   "id": "a2efbe7e",
   "metadata": {},
   "outputs": [],
   "source": [
    "data.drop_duplicates(inplace= True)"
   ]
  },
  {
   "cell_type": "markdown",
   "id": "bc0eced1",
   "metadata": {},
   "source": [
    "### Filling Age Column"
   ]
  },
  {
   "cell_type": "code",
   "execution_count": 66,
   "id": "4a6bf866",
   "metadata": {},
   "outputs": [
    {
     "name": "stdout",
     "output_type": "stream",
     "text": [
      "The mean age of Miss title:  22.0\n",
      "The mean age of Mrs title:  39.0\n",
      "The mean age of Mr title:  34.0\n",
      "The mean age of Master:  7.0\n"
     ]
    }
   ],
   "source": [
    "mean_age_miss = data[data[\"Name\"].str.contains('Miss.', na=False)]['Age'].mean().round()\n",
    "mean_age_mrs = data[data[\"Name\"].str.contains('Mrs.', na=False)]['Age'].mean().round()\n",
    "mean_age_mr = data[data[\"Name\"].str.contains('Mr.', na=False)]['Age'].mean().round()\n",
    "mean_age_master = data[data[\"Name\"].str.contains('Master.', na=False)]['Age'].mean().round()\n",
    "\n",
    "print(\"The mean age of Miss title: \",mean_age_miss)\n",
    "print(\"The mean age of Mrs title: \",mean_age_mrs)\n",
    "print(\"The mean age of Mr title: \",mean_age_mr)\n",
    "print(\"The mean age of Master: \",mean_age_master)\n",
    "\n",
    "def filling_age(name_age): \n",
    "    name = name_age[0]\n",
    "    age = name_age[1]\n",
    "    if pd.isnull(age):\n",
    "        if 'Mr.' in name:\n",
    "            return mean_age_mr\n",
    "        if 'Mrs.' in name:\n",
    "            return mean_age_mrs\n",
    "        if 'Miss.' in name:\n",
    "            return mean_age_miss\n",
    "        if 'Master.' in name:\n",
    "            return mean_age_master\n",
    "        if 'Ms.' in name:\n",
    "            return mean_age_miss\n",
    "    else:\n",
    "        return age\n",
    "data['Age'] = data[['Name', 'Age']].apply(filling_age,axis=1)"
   ]
  },
  {
   "cell_type": "markdown",
   "id": "984ddbbe",
   "metadata": {},
   "source": [
    "### Filling fare column"
   ]
  },
  {
   "cell_type": "code",
   "execution_count": 67,
   "id": "3a9477c9",
   "metadata": {},
   "outputs": [],
   "source": [
    "mean_c3 = data.Fare[data.Pclass == 3].mean()\n",
    "data['Fare'].fillna(value=mean_c3, inplace=True)"
   ]
  },
  {
   "cell_type": "markdown",
   "id": "9a1b1bc9",
   "metadata": {},
   "source": [
    "### Dropping cabin column"
   ]
  },
  {
   "cell_type": "code",
   "execution_count": 68,
   "id": "bf8b6a64",
   "metadata": {},
   "outputs": [],
   "source": [
    "data.drop(['Cabin'], axis=1, inplace=True)"
   ]
  },
  {
   "cell_type": "code",
   "execution_count": 69,
   "id": "db9f1e31",
   "metadata": {},
   "outputs": [
    {
     "data": {
      "text/plain": [
       "PassengerId    0\n",
       "Survived       0\n",
       "Pclass         0\n",
       "Name           0\n",
       "Sex            0\n",
       "Age            0\n",
       "SibSp          0\n",
       "Parch          0\n",
       "Ticket         0\n",
       "Fare           0\n",
       "Embarked       0\n",
       "dtype: int64"
      ]
     },
     "execution_count": 69,
     "metadata": {},
     "output_type": "execute_result"
    }
   ],
   "source": [
    "# Checking missing values\n",
    "data.isnull().sum()"
   ]
  },
  {
   "cell_type": "markdown",
   "id": "ec925884",
   "metadata": {},
   "source": [
    "### Dropping unwanted columns"
   ]
  },
  {
   "cell_type": "code",
   "execution_count": 70,
   "id": "b7e54ca0",
   "metadata": {},
   "outputs": [],
   "source": [
    "data.drop(['PassengerId', 'Name', 'Ticket', 'SibSp', 'Parch'], axis=1, inplace=True)"
   ]
  },
  {
   "cell_type": "markdown",
   "id": "545bb274",
   "metadata": {},
   "source": [
    "# Exploratory Data Analysis"
   ]
  },
  {
   "cell_type": "code",
   "execution_count": 71,
   "id": "679e14b6",
   "metadata": {},
   "outputs": [
    {
     "data": {
      "image/png": "[encoded data removed]",
      "text/plain": [
       "<Figure size 432x288 with 1 Axes>"
      ]
     },
     "metadata": {
      "needs_background": "light"
     },
     "output_type": "display_data"
    }
   ],
   "source": [
    "# Exploring the target variable\n",
    "sns.countplot(x='Survived', data=data)\n",
    "plt.title('Survival Count')\n",
    "plt.show()"
   ]
  },
  {
   "cell_type": "code",
   "execution_count": 72,
   "id": "df6743ab",
   "metadata": {},
   "outputs": [
    {
     "data": {
      "image/png": "[encoded data removed]",
      "text/plain": [
       "<Figure size 432x288 with 1 Axes>"
      ]
     },
     "metadata": {
      "needs_background": "light"
     },
     "output_type": "display_data"
    }
   ],
   "source": [
    "# Exploring categorical variables\n",
    "sns.countplot(x='Sex', data=data)\n",
    "plt.title('Gender Ratio')\n",
    "plt.show()"
   ]
  },
  {
   "cell_type": "code",
   "execution_count": 73,
   "id": "4e9233e5",
   "metadata": {},
   "outputs": [
    {
     "data": {
      "image/png": "[encoded data removed]",
      "text/plain": [
       "<Figure size 432x288 with 1 Axes>"
      ]
     },
     "metadata": {
      "needs_background": "light"
     },
     "output_type": "display_data"
    }
   ],
   "source": [
    "sns.countplot(x='Sex', hue='Survived', data=data)\n",
    "plt.title('Survival Count by Gender')\n",
    "plt.show()"
   ]
  },
  {
   "cell_type": "code",
   "execution_count": 74,
   "id": "627ddeaa",
   "metadata": {},
   "outputs": [
    {
     "data": {
      "image/png": "[encoded data removed]",
      "text/plain": [
       "<Figure size 432x288 with 1 Axes>"
      ]
     },
     "metadata": {
      "needs_background": "light"
     },
     "output_type": "display_data"
    }
   ],
   "source": [
    "sns.countplot(x='Pclass', hue='Survived', data=data)\n",
    "plt.title('Survival Count by Passenger Class')\n",
    "plt.show()"
   ]
  },
  {
   "cell_type": "code",
   "execution_count": 75,
   "id": "c9e1d4dd",
   "metadata": {},
   "outputs": [
    {
     "data": {
      "image/png": "[encoded data removed]",
      "text/plain": [
       "<Figure size 432x288 with 1 Axes>"
      ]
     },
     "metadata": {
      "needs_background": "light"
     },
     "output_type": "display_data"
    }
   ],
   "source": [
    "sns.countplot(x='Embarked', hue='Survived', data=data)\n",
    "plt.title('Survival Count by Onboading Port')\n",
    "plt.show()"
   ]
  },
  {
   "cell_type": "markdown",
   "id": "eee2a7a5",
   "metadata": {},
   "source": [
    "## Encoding categoical Variables"
   ]
  },
  {
   "cell_type": "code",
   "execution_count": 76,
   "id": "f4aae95c",
   "metadata": {},
   "outputs": [],
   "source": [
    "categories = {\"female\": 1, \"male\": 0}\n",
    "data['Sex']= data['Sex'].map(categories)\n",
    "\n",
    "new_data = pd.concat([data, pd.get_dummies(data['Embarked'],drop_first=True)], axis=1) \n",
    "\n",
    "new_data.drop(['Embarked'], axis=1, inplace=True)"
   ]
  },
  {
   "cell_type": "markdown",
   "id": "53ac923b",
   "metadata": {},
   "source": [
    "## Correlation plot"
   ]
  },
  {
   "cell_type": "code",
   "execution_count": 77,
   "id": "e3361852",
   "metadata": {},
   "outputs": [
    {
     "data": {
      "text/plain": [
       "<AxesSubplot:>"
      ]
     },
     "execution_count": 77,
     "metadata": {},
     "output_type": "execute_result"
    },
    {
     "data": {
      "image/png": "[encoded data removed]",
      "text/plain": [
       "<Figure size 1080x720 with 2 Axes>"
      ]
     },
     "metadata": {
      "needs_background": "light"
     },
     "output_type": "display_data"
    }
   ],
   "source": [
    " corr = new_data.corr()\n",
    "corr\n",
    "plt.figure(figsize=(15,10))\n",
    "sns.heatmap(corr, cbar=True, fmt='.2f', annot=True, annot_kws={'size':15}, cmap='Reds')"
   ]
  },
  {
   "cell_type": "markdown",
   "id": "01ceea36",
   "metadata": {},
   "source": [
    "### Dropping the sex column as it may lead to overfitting"
   ]
  },
  {
   "cell_type": "code",
   "execution_count": 78,
   "id": "f71fb748",
   "metadata": {},
   "outputs": [],
   "source": [
    "new_data.drop(['Sex'], axis=1, inplace=True)"
   ]
  },
  {
   "cell_type": "markdown",
   "id": "d5e57c00",
   "metadata": {},
   "source": [
    "### Histogram plots for the Age and  Fare columns"
   ]
  },
  {
   "cell_type": "code",
   "execution_count": 79,
   "id": "46317b83",
   "metadata": {},
   "outputs": [
    {
     "data": {
      "image/png": "[encoded data removed]",
      "text/plain": [
       "<Figure size 432x288 with 1 Axes>"
      ]
     },
     "metadata": {
      "needs_background": "light"
     },
     "output_type": "display_data"
    },
    {
     "data": {
      "image/png": "[encoded data removed]",
      "text/plain": [
       "<Figure size 432x288 with 1 Axes>"
      ]
     },
     "metadata": {
      "needs_background": "light"
     },
     "output_type": "display_data"
    }
   ],
   "source": [
    "sns.histplot(x='Age', data=new_data, kde=True)\n",
    "plt.title('Age Distribution')\n",
    "plt.show()\n",
    "\n",
    "sns.histplot(x='Fare', data=new_data, kde=True)\n",
    "plt.title('Fare Distribution')\n",
    "plt.show()"
   ]
  },
  {
   "cell_type": "markdown",
   "id": "4912d5c2",
   "metadata": {},
   "source": [
    "# Outlier Removal"
   ]
  },
  {
   "cell_type": "code",
   "execution_count": 80,
   "id": "b5eb781f",
   "metadata": {},
   "outputs": [],
   "source": [
    "# Calculate IQR\n",
    "q1 = new_data['Fare'].quantile(0.25)\n",
    "q3 = new_data['Fare'].quantile(0.75)\n",
    "iqr = q3 - q1\n",
    "\n",
    "# Define range\n",
    "lower_range = q1 - 1.5 * iqr\n",
    "upper_range = q3 + 1.5 * iqr\n",
    "\n",
    "# Identify outliers\n",
    "outlier_indices = new_data[(new_data['Fare'] < lower_range) | (new_data['Fare'] > upper_range)].index\n",
    "\n",
    "# Remove outliers\n",
    "cleaned_data = new_data.drop(outlier_indices)"
   ]
  },
  {
   "cell_type": "markdown",
   "id": "9c62e54d",
   "metadata": {},
   "source": [
    "# Data Modelling"
   ]
  },
  {
   "cell_type": "code",
   "execution_count": 81,
   "id": "7e63bb99",
   "metadata": {},
   "outputs": [],
   "source": [
    "## Splitting the data\n",
    "X = cleaned_data.drop(['Survived'], axis=1)\n",
    "y = cleaned_data['Survived']"
   ]
  },
  {
   "cell_type": "code",
   "execution_count": 82,
   "id": "ab294662",
   "metadata": {},
   "outputs": [],
   "source": [
    "## Data normalization \n",
    "mns = MinMaxScaler()\n",
    "X = pd.DataFrame(mns.fit_transform(X), columns=X.columns)"
   ]
  },
  {
   "cell_type": "code",
   "execution_count": 83,
   "id": "c9cdd119",
   "metadata": {},
   "outputs": [],
   "source": [
    "## Train Test Split\n",
    "X_train, X_test, y_train, y_test = train_test_split(X,y, test_size=0.25, random_state=42)"
   ]
  },
  {
   "cell_type": "code",
   "execution_count": 84,
   "id": "3f41d2f0",
   "metadata": {},
   "outputs": [
    {
     "name": "stdout",
     "output_type": "stream",
     "text": [
      "Training score:  0.812\n",
      "Testing score:  0.703\n"
     ]
    }
   ],
   "source": [
    "## Random Forest Regressor\n",
    "rf = RandomForestClassifier(n_estimators=100, max_depth=5, random_state=2)\n",
    "rf.fit(X_train, y_train)\n",
    "print('Training score: ', round(rf.score(X_train, y_train),3))\n",
    "print('Testing score: ', round(rf.score(X_test, y_test),3))"
   ]
  },
  {
   "cell_type": "code",
   "execution_count": 85,
   "id": "2115c707",
   "metadata": {},
   "outputs": [
    {
     "name": "stdout",
     "output_type": "stream",
     "text": [
      "Training score:  0.676\n",
      "Testing score:  0.637\n"
     ]
    }
   ],
   "source": [
    "## Logistic Regression\n",
    "logreg = LogisticRegression()\n",
    "logreg.fit(X_train, y_train)\n",
    "print('Training score: ', round(logreg.score(X_train, y_train),3))\n",
    "print('Testing score: ', round(logreg.score(X_test, y_test),3))"
   ]
  },
  {
   "cell_type": "code",
   "execution_count": 86,
   "id": "b57a5199",
   "metadata": {},
   "outputs": [
    {
     "name": "stdout",
     "output_type": "stream",
     "text": [
      "Training score:  0.676\n",
      "Testing score:  0.615\n"
     ]
    }
   ],
   "source": [
    "## Support Vector Machine\n",
    "svm = SVC()\n",
    "svm.fit(X_train, y_train)\n",
    "print('Training score: ', round(svm.score(X_train, y_train),3))\n",
    "print('Testing score: ', round(svm.score(X_test, y_test),3))"
   ]
  },
  {
   "cell_type": "code",
   "execution_count": 87,
   "id": "02891b9c",
   "metadata": {},
   "outputs": [
    {
     "name": "stdout",
     "output_type": "stream",
     "text": [
      "Training score:  0.772\n",
      "Testing score:  0.703\n"
     ]
    }
   ],
   "source": [
    "## K-Nearest Neighbours\n",
    "knn = KNeighborsClassifier()\n",
    "knn.fit(X_train, y_train)\n",
    "print('Training score: ', round(knn.score(X_train, y_train),3))\n",
    "print('Testing score: ', round(knn.score(X_test, y_test),3))"
   ]
  },
  {
   "cell_type": "code",
   "execution_count": null,
   "id": "92247068",
   "metadata": {},
   "outputs": [],
   "source": []
  }
 ],
 "metadata": {
  "kernelspec": {
   "display_name": "Python 3 (ipykernel)",
   "language": "python",
   "name": "python3"
  },
  "language_info": {
   "codemirror_mode": {
    "name": "ipython",
    "version": 3
   },
   "file_extension": ".py",
   "mimetype": "text/x-python",
   "name": "python",
   "nbconvert_exporter": "python",
   "pygments_lexer": "ipython3",
   "version": "3.9.12"
  }
 },
 "nbformat": 4,
 "nbformat_minor": 5
}
